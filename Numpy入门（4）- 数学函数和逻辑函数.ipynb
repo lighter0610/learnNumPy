{
 "cells": [
  {
   "cell_type": "markdown",
   "metadata": {},
   "source": [
    "### 数学函数\n",
    "\n",
    "向量化和广播这两个概念是 numpy 内部实现的基础。有了向量化，编写代码时无需使用显式循环。这些循环实际上不能省略，只不过是在内部实现，被代码中的其他结构代替。向量化的应用使得代码更简洁，可读性更强，也可以说使用了向量化方法的代码看上去更“Pythonic”。\n",
    "\n",
    "广播（Broadcasting）机制描述了 numpy 如何在算术运算期间处理具有不同形状的数组，让较小的数组在较大的数组上“广播”，以便它们具有兼容的形状。并不是所有的维度都要彼此兼容才符合广播机制的要求，但它们必须满足一定的条件。\n",
    "\n",
    "若两个数组的各维度兼容，也就是两个数组的每一维等长，或其中一个数组为 一维，那么广播机制就适用。如果这两个条件不满足，numpy就会抛出异常，说两个数组不兼容。"
   ]
  },
  {
   "cell_type": "code",
   "execution_count": 6,
   "metadata": {},
   "outputs": [
    {
     "name": "stdout",
     "output_type": "stream",
     "text": [
      "(3, 3) (3,)\n",
      "[[2. 3. 4.]\n",
      " [2. 3. 4.]\n",
      " [2. 3. 4.]]\n"
     ]
    }
   ],
   "source": [
    "import numpy as np\n",
    "\n",
    "# 一维数组与二维数组运算\n",
    "\n",
    "a = np.ones([3, 3])\n",
    "b = np.arange(1, 4)\n",
    "print(a.shape, b.shape)\n",
    "print(a + b)"
   ]
  },
  {
   "cell_type": "code",
   "execution_count": 9,
   "metadata": {},
   "outputs": [
    {
     "name": "stdout",
     "output_type": "stream",
     "text": [
      "(1, 3) (6, 1)\n",
      "[[2. 2. 2.]\n",
      " [3. 3. 3.]\n",
      " [4. 4. 4.]\n",
      " [5. 5. 5.]\n",
      " [6. 6. 6.]\n",
      " [7. 7. 7.]]\n"
     ]
    }
   ],
   "source": [
    "# 一维数组运算\n",
    "\n",
    "a = np.ones([1, 3])\n",
    "b = np.arange(1, 7).reshape([6, 1])\n",
    "print(a.shape, b.shape)\n",
    "print(a + b)"
   ]
  },
  {
   "cell_type": "markdown",
   "metadata": {},
   "source": [
    "**算术运算**\n",
    "\n",
    "- `numpy.add(x1, x2, *args, **kwargs)` 两数组元素相加\n",
    "- `numpy.subtract(x1, x2, *args, **kwargs)` 两数组元素相减\n",
    "- `numpy.multiply(x1, x2, *args, **kwargs)` 两数组元素相乘\n",
    "- `numpy.divide(x1, x2, *args, **kwargs)` 两数组元素相除\n",
    "- `numpy.floor_divide(x1, x2, *args, **kwargs)` 两数组元素相除并向下取整\n",
    "- `numpy.power(x1, x2, *args, **kwargs)` 第一个数组为底数，第二个数组为指数乘方\n",
    "\n",
    "上述方法可以用运算符 `+`, `-`, `*`, `/`, `//`, `**` 表示。其中作用范围为元素级，即两数组中位置相同的元素之间运算。"
   ]
  },
  {
   "cell_type": "code",
   "execution_count": 10,
   "metadata": {},
   "outputs": [
    {
     "name": "stdout",
     "output_type": "stream",
     "text": [
      "(1, 3) (6, 1)\n",
      "[[2. 2. 2.]\n",
      " [3. 3. 3.]\n",
      " [4. 4. 4.]\n",
      " [5. 5. 5.]\n",
      " [6. 6. 6.]\n",
      " [7. 7. 7.]]\n",
      "[[2. 2. 2.]\n",
      " [3. 3. 3.]\n",
      " [4. 4. 4.]\n",
      " [5. 5. 5.]\n",
      " [6. 6. 6.]\n",
      " [7. 7. 7.]]\n"
     ]
    }
   ],
   "source": [
    "a = np.ones([1, 3])\n",
    "b = np.arange(1, 7).reshape([6, 1])\n",
    "print(a.shape, b.shape)\n",
    "print(a + b)\n",
    "print(np.add(a, b))"
   ]
  },
  {
   "cell_type": "markdown",
   "metadata": {},
   "source": [
    "- `numpy.sqrt(x, *args, **kwargs)` 返回 x 中非负元素的平方根\n",
    "- `numpy.square(x, *args, **kwargs)` 返回 x 中元素的平方"
   ]
  },
  {
   "cell_type": "code",
   "execution_count": 12,
   "metadata": {},
   "outputs": [
    {
     "name": "stdout",
     "output_type": "stream",
     "text": [
      "[1.         1.41421356 1.73205081 2.         2.23606798 2.44948974\n",
      " 2.64575131 2.82842712 3.        ]\n",
      "[ 1  4  9 16 25 36 49 64 81]\n"
     ]
    }
   ],
   "source": [
    "a = np.arange(1, 10)\n",
    "print(np.sqrt(a))\n",
    "print(np.square(a))"
   ]
  },
  {
   "cell_type": "markdown",
   "metadata": {},
   "source": [
    "**三角函数**\n",
    "\n",
    "- `numpy.sin(x, *args, **kwargs)` \n",
    "- `numpy.cos(x, *args, **kwargs)` \n",
    "- `numpy.tan(x, *args, **kwargs)` \n",
    "- `numpy.arcsin(x, *args, **kwargs)` \n",
    "- `numpy.arccos(x, *args, **kwargs)`\n",
    "- `numpy.arctan(x, *args, **kwargs)` \n",
    "\n",
    "不解释"
   ]
  },
  {
   "cell_type": "markdown",
   "metadata": {},
   "source": [
    "**指数和对数**\n",
    "\n",
    "- `numpy.exp(x, *args, **kwargs)` 计算 e 的 x 次方\n",
    "- `numpy.log(x, *args, **kwargs)` 计算 x 的自然对数\n",
    "- `numpy.exp2(x, *args, **kwargs)` 计算 2 的 x 次方\n",
    "- `numpy.log2(x, *args, **kwargs)` 计算 x 以 2 为底的对数\n",
    "- `numpy.log10(x, *args, **kwargs)` 计算 x 以 10 为底的对数"
   ]
  },
  {
   "cell_type": "code",
   "execution_count": 15,
   "metadata": {},
   "outputs": [
    {
     "name": "stdout",
     "output_type": "stream",
     "text": [
      "[ 2.71828183  7.3890561  20.08553692 54.59815003]\n",
      "[1. 2. 3. 4.]\n",
      "[ True  True  True  True]\n"
     ]
    }
   ],
   "source": [
    "a = np.arange(1, 5)\n",
    "b = np.exp(a)\n",
    "print(b)\n",
    "c = np.log(b)\n",
    "print(c)\n",
    "print(a == c)"
   ]
  },
  {
   "cell_type": "markdown",
   "metadata": {},
   "source": [
    "**数组内操作**\n",
    "\n",
    "- `numpy.sum(a[, axis=None, dtype=None, out=None, …])` 给定轴元素的和\n",
    "- `numpy.cumsum(a, axis=None, dtype=None, out=None)` 给定轴元素的累加和\n",
    "- `numpy.prod(a[, axis=None, dtype=None, out=None, …])` 给定轴元素的积\n",
    "- `numpy.cumprod(a, axis=None, dtype=None, out=None)` 给定轴元素的累加积\n",
    "\n",
    "其中 `axis` 参数为空时，返回整个数组的对应和或积"
   ]
  },
  {
   "cell_type": "code",
   "execution_count": 21,
   "metadata": {},
   "outputs": [
    {
     "name": "stdout",
     "output_type": "stream",
     "text": [
      "[[[1 2]\n",
      "  [3 4]]\n",
      "\n",
      " [[5 6]\n",
      "  [7 8]]]\n",
      "36\n",
      "[[ 6  8]\n",
      " [10 12]]\n",
      "[ 1  3  6 10 15 21 28 36]\n",
      "40320\n",
      "[[ 2 12]\n",
      " [30 56]]\n",
      "[[[ 1  2]\n",
      "  [ 3  8]]\n",
      "\n",
      " [[ 5  6]\n",
      "  [35 48]]]\n"
     ]
    }
   ],
   "source": [
    "a = np.arange(1, 9).reshape([2, 2, 2])\n",
    "print(a)\n",
    "print(a.sum())\n",
    "print(a.sum(axis=0))\n",
    "print(a.cumsum())\n",
    "print(a.prod())\n",
    "print(a.prod(axis=2))\n",
    "print(a.cumprod(axis=1))"
   ]
  },
  {
   "cell_type": "markdown",
   "metadata": {},
   "source": [
    "**舍入**\n",
    "- `numpy.around(a, decimals=0, out=None)` 四舍五入到指定小数位\n",
    "- `numpy.ceil(x, *args, **kwargs)` 向上取整\n",
    "- `numpy.floor(x, *args, **kwargs)` 向下取整"
   ]
  },
  {
   "cell_type": "code",
   "execution_count": 27,
   "metadata": {},
   "outputs": [
    {
     "name": "stdout",
     "output_type": "stream",
     "text": [
      "[[1.59 6.39 4.17]\n",
      " [5.35 0.02 5.89]\n",
      " [2.07 4.87 4.13]]\n",
      "[[2. 7. 5.]\n",
      " [6. 1. 6.]\n",
      " [3. 5. 5.]]\n",
      "[[1. 6. 4.]\n",
      " [5. 0. 5.]\n",
      " [2. 4. 4.]]\n"
     ]
    }
   ],
   "source": [
    "a = np.random.rand(3, 3) * 10\n",
    "print(np.around(a, decimals=2))\n",
    "print(np.ceil(a))\n",
    "print(np.floor(a))"
   ]
  },
  {
   "cell_type": "markdown",
   "metadata": {},
   "source": [
    "Note：对于负数，`ceil()` 和 `floor()` 结果与正数不同"
   ]
  },
  {
   "cell_type": "code",
   "execution_count": 28,
   "metadata": {},
   "outputs": [
    {
     "name": "stdout",
     "output_type": "stream",
     "text": [
      "[-2. -1.]\n",
      "[-1. -1.]\n",
      "[-2. -2.]\n"
     ]
    }
   ],
   "source": [
    "a = np.array([-1.7, -1.3])\n",
    "print(np.around(a))\n",
    "print(np.ceil(a))\n",
    "print(np.floor(a))"
   ]
  },
  {
   "cell_type": "markdown",
   "metadata": {},
   "source": [
    "### 逻辑函数\n",
    "\n",
    "- `numpy.all(a, axis=None, out=None, keepdims=np._NoValue)` 检测给定数组是否全部元素均为 True\n",
    "- `numpy.any(a, axis=None, out=None, keepdims=np._NoValue)` 检测给定数组是否有任意元素为 True\n"
   ]
  },
  {
   "cell_type": "code",
   "execution_count": 31,
   "metadata": {},
   "outputs": [
    {
     "name": "stdout",
     "output_type": "stream",
     "text": [
      "True\n",
      "True\n",
      "False\n",
      "True\n"
     ]
    }
   ],
   "source": [
    "a = np.array([0, 1, 2])\n",
    "b = a.copy()\n",
    "print(np.all(a == b))\n",
    "print(np.any(a == b))\n",
    "b[0] = 1\n",
    "print(np.all(a == b))\n",
    "print(np.any(a == b))"
   ]
  },
  {
   "cell_type": "markdown",
   "metadata": {},
   "source": [
    "- `numpy.isnan(x, *args, **kwargs)` 检测数组元素是否为 NaN，返回 `bool` 数组。用于数据清洗"
   ]
  },
  {
   "cell_type": "code",
   "execution_count": 32,
   "metadata": {},
   "outputs": [
    {
     "name": "stdout",
     "output_type": "stream",
     "text": [
      "[False False  True]\n"
     ]
    }
   ],
   "source": [
    "a = np.array([1, 2, np.nan])\n",
    "print(np.isnan(a))"
   ]
  },
  {
   "cell_type": "markdown",
   "metadata": {},
   "source": [
    "**逻辑运算**\n",
    "- `numpy.logical_not(x, *args, **kwargs)` 取非\n",
    "- `numpy.logical_and(x1, x2, *args, **kwargs)` 取与\n",
    "- `numpy.logical_or(x1, x2, *args, **kwargs)` 取或\n",
    "- `numpy.logical_xor(x1, x2, *args, **kwargs)` 取异或\n",
    "\n",
    "不解释"
   ]
  },
  {
   "cell_type": "markdown",
   "metadata": {},
   "source": [
    "- `numpy.greater(x1, x2, *args, **kwargs)` \n",
    "- `numpy.greater_equal(x1, x2, *args, **kwargs)` \n",
    "- `numpy.equal(x1, x2, *args, **kwargs)` \n",
    "- `numpy.not_equal(x1, x2, *args, **kwargs)` \n",
    "- `numpy.less(x1, x2, *args, **kwargs)` \n",
    "- `numpy.less_equal(x1, x2, *args, **kwargs)` \n",
    "\n",
    "可以用对应运算符 `>`, `>=`, `==`, `!=`, `<`, `<=` 运算"
   ]
  },
  {
   "cell_type": "code",
   "execution_count": null,
   "metadata": {},
   "outputs": [],
   "source": []
  }
 ],
 "metadata": {
  "kernelspec": {
   "display_name": "Python 3",
   "language": "python",
   "name": "python3"
  },
  "language_info": {
   "codemirror_mode": {
    "name": "ipython",
    "version": 3
   },
   "file_extension": ".py",
   "mimetype": "text/x-python",
   "name": "python",
   "nbconvert_exporter": "python",
   "pygments_lexer": "ipython3",
   "version": "3.8.3"
  }
 },
 "nbformat": 4,
 "nbformat_minor": 4
}
