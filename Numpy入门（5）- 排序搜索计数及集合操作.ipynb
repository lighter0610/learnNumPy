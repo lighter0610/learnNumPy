{
 "cells": [
  {
   "cell_type": "markdown",
   "metadata": {},
   "source": [
    "### 排序，搜索和计数\n",
    "\n",
    "**排序**\n",
    "\n",
    "- `numpy.sort(a[, axis=-1, kind='quicksort', order=None])` 返回数组排序后的复制。\n",
    "    - axis：排序沿数组的（轴）方向，0表示按行，1表示按列，None表示展开来排序，默认为-1，表示沿最后的轴排序。\n",
    "    - kind：排序的算法，提供了快排'quicksort'、混排'mergesort'、堆排'heapsort'， 默认为‘quicksort'。\n",
    "    - order：排序的字段名，可指定字段排序，默认为None。\n",
    "\n"
   ]
  },
  {
   "cell_type": "code",
   "execution_count": 8,
   "metadata": {},
   "outputs": [
    {
     "name": "stdout",
     "output_type": "stream",
     "text": [
      "[[9.93 4.23 7.67 7.86 6.64]\n",
      " [5.1  5.79 4.75 6.34 5.46]\n",
      " [2.16 6.14 4.77 3.33 4.43]\n",
      " [7.73 0.72 5.19 3.52 7.06]\n",
      " [1.86 1.45 2.52 9.47 9.55]]\n"
     ]
    }
   ],
   "source": [
    "import numpy as np\n",
    "a = np.random.rand(5, 5) * 10\n",
    "a = np.around(a, 2)\n",
    "print(a)"
   ]
  },
  {
   "cell_type": "code",
   "execution_count": 10,
   "metadata": {},
   "outputs": [
    {
     "name": "stdout",
     "output_type": "stream",
     "text": [
      "[[4.23 6.64 7.67 7.86 9.93]\n",
      " [4.75 5.1  5.46 5.79 6.34]\n",
      " [2.16 3.33 4.43 4.77 6.14]\n",
      " [0.72 3.52 5.19 7.06 7.73]\n",
      " [1.45 1.86 2.52 9.47 9.55]]\n",
      "[[1.86 0.72 2.52 3.33 4.43]\n",
      " [2.16 1.45 4.75 3.52 5.46]\n",
      " [5.1  4.23 4.77 6.34 6.64]\n",
      " [7.73 5.79 5.19 7.86 7.06]\n",
      " [9.93 6.14 7.67 9.47 9.55]]\n",
      "[0.72 1.45 1.86 2.16 2.52 3.33 3.52 4.23 4.43 4.75 4.77 5.1  5.19 5.46\n",
      " 5.79 6.14 6.34 6.64 7.06 7.67 7.73 7.86 9.47 9.55 9.93]\n"
     ]
    }
   ],
   "source": [
    "print(np.sort(a))\n",
    "print(np.sort(a, axis=0))\n",
    "print(np.sort(a, axis=None))"
   ]
  },
  {
   "cell_type": "markdown",
   "metadata": {},
   "source": [
    "- `numpy.argsort(a[, axis=-1, kind='quicksort', order=None])` 返回排序后数组的索引"
   ]
  },
  {
   "cell_type": "code",
   "execution_count": 12,
   "metadata": {},
   "outputs": [
    {
     "name": "stdout",
     "output_type": "stream",
     "text": [
      "[[9.93 4.23 7.67 7.86 6.64]\n",
      " [5.1  5.79 4.75 6.34 5.46]\n",
      " [2.16 6.14 4.77 3.33 4.43]\n",
      " [7.73 0.72 5.19 3.52 7.06]\n",
      " [1.86 1.45 2.52 9.47 9.55]]\n",
      "[[1 4 2 3 0]\n",
      " [2 0 4 1 3]\n",
      " [0 3 4 2 1]\n",
      " [1 3 2 4 0]\n",
      " [1 0 2 3 4]]\n"
     ]
    }
   ],
   "source": [
    "print(a)\n",
    "print(np.argsort(a))"
   ]
  },
  {
   "cell_type": "code",
   "execution_count": 13,
   "metadata": {},
   "outputs": [
    {
     "name": "stdout",
     "output_type": "stream",
     "text": [
      "[[4 3 4 2 2]\n",
      " [2 4 1 3 1]\n",
      " [1 0 2 1 0]\n",
      " [3 1 3 0 3]\n",
      " [0 2 0 4 4]]\n",
      "[16 21 20 10 22 13 18  1 14  7 12  5 17  9  6 11  8  4 19  2 15  3 23 24\n",
      "  0]\n"
     ]
    }
   ],
   "source": [
    "print(np.argsort(a, axis=0))\n",
    "print(np.argsort(a, axis=None))"
   ]
  },
  {
   "cell_type": "markdown",
   "metadata": {},
   "source": [
    "- `numpy.lexsort(keys[, axis=-1])` 使用键序列执行间接稳定排序。\n",
    "\n",
    "给定多个可以在电子表格中解释为列的排序键，lexsort返回一个整数索引数组，该数组描述了按多个列排序的顺序。序列中的最后一个键用于主排序顺序，倒数第二个键用于辅助排序顺序，依此类推。keys参数必须是可以转换为相同形状的数组的对象序列。如果为keys参数提供了2D数组，则将其行解释为排序键，并根据最后一行，倒数第二行等进行排序。"
   ]
  },
  {
   "cell_type": "code",
   "execution_count": 16,
   "metadata": {},
   "outputs": [
    {
     "name": "stdout",
     "output_type": "stream",
     "text": [
      "[[5.45 5.4  2.93 1.52 9.96]\n",
      " [9.25 7.26 8.82 0.41 8.3 ]\n",
      " [1.88 0.84 2.57 1.35 4.12]\n",
      " [4.78 8.79 1.51 0.86 5.11]\n",
      " [4.35 4.97 5.13 5.77 2.07]]\n",
      "[2 4 3 0 1]\n",
      "[[1.88 0.84 2.57 1.35 4.12]\n",
      " [4.35 4.97 5.13 5.77 2.07]\n",
      " [4.78 8.79 1.51 0.86 5.11]\n",
      " [5.45 5.4  2.93 1.52 9.96]\n",
      " [9.25 7.26 8.82 0.41 8.3 ]]\n"
     ]
    }
   ],
   "source": [
    "a = np.random.rand(5, 5) * 10\n",
    "a = np.around(a, 2)\n",
    "print(a)\n",
    "i = np.lexsort([a[:, 0]])\n",
    "print(i)\n",
    "b = a[i]\n",
    "print(b)"
   ]
  },
  {
   "cell_type": "markdown",
   "metadata": {},
   "source": [
    "- `numpy.partition(a, kth, axis=-1, kind='introselect', order=None)` 返回分割后的数组\n",
    "\n",
    "创建数组的复制使得第k大的元素在第k个位置，小于其的元素位于其左侧，大于等于其的元素位于其右侧。"
   ]
  },
  {
   "cell_type": "code",
   "execution_count": 17,
   "metadata": {},
   "outputs": [
    {
     "name": "stdout",
     "output_type": "stream",
     "text": [
      "[[26 18 28]\n",
      " [15 10 22]\n",
      " [22 11 25]\n",
      " [ 8  4 22]\n",
      " [24 15 22]\n",
      " [19 16 28]\n",
      " [15 23 10]\n",
      " [27 29 20]]\n",
      "[[ 8  4 10]\n",
      " [15 10 20]\n",
      " [15 11 22]\n",
      " [19 15 22]\n",
      " [22 16 22]\n",
      " [24 18 25]\n",
      " [26 23 28]\n",
      " [27 29 28]]\n",
      "[[ 8  4 10]\n",
      " [15 10 20]\n",
      " [15 11 22]\n",
      " [26 18 25]\n",
      " [24 15 22]\n",
      " [19 16 28]\n",
      " [22 23 28]\n",
      " [27 29 22]]\n"
     ]
    }
   ],
   "source": [
    "x = np.random.randint(1, 30, [8, 3])\n",
    "print(x)\n",
    "\n",
    "y = np.sort(x, axis=0)\n",
    "print(y)\n",
    "\n",
    "z = np.partition(x, kth=2, axis=0)\n",
    "print(z)"
   ]
  },
  {
   "cell_type": "markdown",
   "metadata": {},
   "source": [
    "**搜索**\n",
    "- `numpy.argmax(a[, axis=None, out=None])` 返回数组给定轴最大值的索引\n",
    "- `numpy.argmin(a[, axis=None, out=None])` 返回数组给定轴最小值的索引"
   ]
  },
  {
   "cell_type": "code",
   "execution_count": 18,
   "metadata": {},
   "outputs": [
    {
     "name": "stdout",
     "output_type": "stream",
     "text": [
      "[4 7 6 5 6 7 8 0 3 1]\n"
     ]
    }
   ],
   "source": [
    "a = np.random.randint(0, 10, 10)\n",
    "print(a)"
   ]
  },
  {
   "cell_type": "code",
   "execution_count": 19,
   "metadata": {},
   "outputs": [
    {
     "name": "stdout",
     "output_type": "stream",
     "text": [
      "6\n",
      "7\n"
     ]
    }
   ],
   "source": [
    "print(a.argmax())\n",
    "print(a.argmin())"
   ]
  },
  {
   "cell_type": "markdown",
   "metadata": {},
   "source": [
    "- `numpy.nonzero(a)` 返回数组中非零元素的下标\n",
    "\n",
    "返回一个 tuple，其长度等于数组维度。tuple 中每个元素为一个数组，长度等于原数组中非零元素的个数。tuple 中第 i 个数组的第 j 项表示原数组中第 j 个非零元素在第 i 维的下标。"
   ]
  },
  {
   "cell_type": "code",
   "execution_count": 27,
   "metadata": {},
   "outputs": [
    {
     "name": "stdout",
     "output_type": "stream",
     "text": [
      "(array([1, 2]),)\n"
     ]
    }
   ],
   "source": [
    "a = np.array([0, 3, 2, 0])\n",
    "b = a.nonzero()\n",
    "print(b)"
   ]
  },
  {
   "cell_type": "code",
   "execution_count": 28,
   "metadata": {},
   "outputs": [
    {
     "name": "stdout",
     "output_type": "stream",
     "text": [
      "(array([0, 0, 1, 1, 2, 2]), array([1, 2, 0, 2, 0, 1]))\n"
     ]
    }
   ],
   "source": [
    "a = np.array([[0, 1, 2], [1, 0, 2], [1, 2, 0]])\n",
    "b = a.nonzero()\n",
    "print(b)"
   ]
  },
  {
   "cell_type": "markdown",
   "metadata": {},
   "source": [
    "- `numpy.where(condition, [x=None, y=None])`  满足条件 `condition` 则返回 `x`，否则返回 `y`"
   ]
  },
  {
   "cell_type": "code",
   "execution_count": 29,
   "metadata": {},
   "outputs": [
    {
     "name": "stdout",
     "output_type": "stream",
     "text": [
      "[0 0 0 0 0 6 7 8 9]\n"
     ]
    }
   ],
   "source": [
    "a = np.arange(1, 10)\n",
    "b = np.where(a > 5, a, 0)\n",
    "print(b)"
   ]
  },
  {
   "cell_type": "markdown",
   "metadata": {},
   "source": [
    "- `numpy.searchsorted(a, v[, side='left', sorter=None])` 找到使插入元素后，数组依然有序的下标\n",
    "    - a：一维输入数组。当`sorter`参数为`None`的时候，`a`必须为升序数组；否则，`sorter`不能为空，存放`a`中元素的`index`，用于反映`a`数组的升序排列方式。\n",
    "    - v：插入`a`数组的值，可以为单个元素，`list`或者`ndarray`。\n",
    "    - side：查询方向，当为`left`时，将返回第一个符合条件的元素下标；当为`right`时，将返回最后一个符合条件的元素下标。\n",
    "    - sorter：一维数组存放`a`数组元素的 index，index 对应元素为升序。"
   ]
  },
  {
   "cell_type": "code",
   "execution_count": 31,
   "metadata": {},
   "outputs": [
    {
     "name": "stdout",
     "output_type": "stream",
     "text": [
      "[1 2 3 4 5 6 7 8 9]\n",
      "0\n",
      "1\n",
      "9\n"
     ]
    }
   ],
   "source": [
    "a = np.arange(1, 10)\n",
    "print(a)\n",
    "print(np.searchsorted(a, 1))\n",
    "print(np.searchsorted(a, 1, side='right'))\n",
    "print(np.searchsorted(a, 11))"
   ]
  },
  {
   "cell_type": "markdown",
   "metadata": {},
   "source": [
    "**计数**\n",
    "- `numpy.count_nonzero(a, axis=None)` 返回数组中非0元素的个数"
   ]
  },
  {
   "cell_type": "code",
   "execution_count": 33,
   "metadata": {},
   "outputs": [
    {
     "name": "stdout",
     "output_type": "stream",
     "text": [
      "3\n"
     ]
    }
   ],
   "source": [
    "a = np.array([0, 1, 2, 3, 0])\n",
    "print(np.count_nonzero(a))"
   ]
  },
  {
   "cell_type": "code",
   "execution_count": null,
   "metadata": {},
   "outputs": [],
   "source": []
  }
 ],
 "metadata": {
  "kernelspec": {
   "display_name": "Python 3",
   "language": "python",
   "name": "python3"
  },
  "language_info": {
   "codemirror_mode": {
    "name": "ipython",
    "version": 3
   },
   "file_extension": ".py",
   "mimetype": "text/x-python",
   "name": "python",
   "nbconvert_exporter": "python",
   "pygments_lexer": "ipython3",
   "version": "3.8.3"
  }
 },
 "nbformat": 4,
 "nbformat_minor": 4
}
